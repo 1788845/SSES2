{
 "cells": [
  {
   "cell_type": "markdown",
   "metadata": {},
   "source": [
    "# Exercise 2"
   ]
  },
  {
   "cell_type": "markdown",
   "metadata": {},
   "source": [
    "Tianfang Wang a1788845"
   ]
  },
  {
   "cell_type": "markdown",
   "metadata": {},
   "source": [
    "## Loading modules"
   ]
  },
  {
   "cell_type": "code",
   "execution_count": 1,
   "metadata": {},
   "outputs": [],
   "source": [
    "import os\n",
    "import re\n",
    "# Specify git executable file for GitPython in Jupyter Notebook (In IDE, it can still work without this line.)\n",
    "os.environ[\"GIT_PYTHON_REFRESH\"] = \"quiet\"\n",
    "import git\n",
    "from git import RemoteProgress\n",
    "from git import Repo\n"
   ]
  },
  {
   "cell_type": "markdown",
   "metadata": {},
   "source": [
    "## Case 1 CVE-2015-5174"
   ]
  },
  {
   "cell_type": "code",
   "execution_count": 2,
   "metadata": {},
   "outputs": [],
   "source": [
    "repo1 = Repo(\"~/Documents/tomcat80\")\n",
    "fixing_commit_1 = \"2fc9d03ffbc3fe7eabfd272380807ac0ddcf748d\""
   ]
  },
  {
   "cell_type": "markdown",
   "metadata": {},
   "source": [
    "## Q(a) What was the message and title of the fixing commit? Was there any mention of fixing a bug or vulnerability? "
   ]
  },
  {
   "cell_type": "code",
   "execution_count": 3,
   "metadata": {},
   "outputs": [
    {
     "name": "stdout",
     "output_type": "stream",
     "text": [
      "Title: Fix Javadoc\n",
      "Separate test cases into separate test methods and add some additional tests.\n",
      "Clean up the code and fix a couple of edge cases\n",
      "\n",
      "git-svn-id: https://svn.apache.org/repos/asf/tomcat/tc8.0.x/trunk@1696281 13f79535-47bb-0310-9956-ffa450edef68\n",
      "\n"
     ]
    }
   ],
   "source": [
    "res1 = repo1.git.log(-1, '--pretty=%B', fixing_commit_1)\n",
    "\n",
    "print(\"Title:\",res1)"
   ]
  },
  {
   "cell_type": "markdown",
   "metadata": {},
   "source": [
    "## Q(b) How many total files were affected in the fixing commit? "
   ]
  },
  {
   "cell_type": "code",
   "execution_count": 4,
   "metadata": {},
   "outputs": [
    {
     "name": "stdout",
     "output_type": "stream",
     "text": [
      "Number of affected files: 3\n"
     ]
    }
   ],
   "source": [
    "res2 = repo1.git.diff('--name-only', fixing_commit_1, fixing_commit_1 + '^').splitlines()\n",
    "print(\"Number of affected files: %d\"%len(res2))"
   ]
  },
  {
   "cell_type": "markdown",
   "metadata": {},
   "source": [
    "## Q(c) How many total directories were affected in the fixing commit? For example, if a file path is: abc/def/File.java, then its directory is abc/def."
   ]
  },
  {
   "cell_type": "code",
   "execution_count": 5,
   "metadata": {},
   "outputs": [
    {
     "name": "stdout",
     "output_type": "stream",
     "text": [
      "Number of affected directories: 3\n"
     ]
    }
   ],
   "source": [
    "res3 = repo1.git.diff('--dirstat', fixing_commit_1, fixing_commit_1 + '^').splitlines()\n",
    "print(\"Number of affected directories: %d\"%len(res3))"
   ]
  },
  {
   "cell_type": "markdown",
   "metadata": {},
   "source": [
    "## Q(d) How many total lines of code (including comments and blank lines) were deleted? "
   ]
  },
  {
   "cell_type": "code",
   "execution_count": 6,
   "metadata": {},
   "outputs": [
    {
     "name": "stdout",
     "output_type": "stream",
     "text": [
      "Number of deleted lines (including comments and blank lines): 21\n"
     ]
    }
   ],
   "source": [
    "res4 = repo1.git.show(fixing_commit_1).splitlines()\n",
    "res4 = [line for line in res4 if re.compile('^-$|^-[^-]').match(line)]\n",
    "print(\"Number of deleted lines (including comments and blank lines): %d\"%len(res4))"
   ]
  },
  {
   "cell_type": "markdown",
   "metadata": {},
   "source": [
    "## Q(e) How many total lines of code (including comments and blank lines) were added?"
   ]
  },
  {
   "cell_type": "code",
   "execution_count": 7,
   "metadata": {},
   "outputs": [
    {
     "name": "stdout",
     "output_type": "stream",
     "text": [
      "Number of added lines (including comments and blank lines): 98\n"
     ]
    }
   ],
   "source": [
    "res5 = repo1.git.show(fixing_commit_1).splitlines()\n",
    "res5 = [line for line in res5 if re.compile('^\\+$|^\\+[^\\+]').match(line)]\n",
    "print(\"Number of added lines (including comments and blank lines): %d\"%len(res5))"
   ]
  },
  {
   "cell_type": "markdown",
   "metadata": {},
   "source": [
    "## Q(f) How many total lines of code (excluding comments and blank lines) were deleted? "
   ]
  },
  {
   "cell_type": "code",
   "execution_count": 8,
   "metadata": {},
   "outputs": [
    {
     "name": "stdout",
     "output_type": "stream",
     "text": [
      "Number of added lines (excluding comments and blank lines): 20\n"
     ]
    }
   ],
   "source": [
    "res6 = repo1.git.show('--ignore-blank-lines', fixing_commit_1).splitlines()\n",
    "res6 = [line for line in res6 if re.compile('^-[^-]').match(line)]\n",
    "res6 = [line for line in res6 if not re.compile('^[-|]\\s*/').match(line)]\n",
    "res6 = [line for line in res6 if not re.compile('^[-|]\\s*\\*').match(line)]\n",
    "print(\"Number of added lines (excluding comments and blank lines): %d\"%len(res6))"
   ]
  },
  {
   "cell_type": "markdown",
   "metadata": {},
   "source": [
    "## Q(g) How many total lines of code (excluding comments and blank lines) were added? "
   ]
  },
  {
   "cell_type": "code",
   "execution_count": 9,
   "metadata": {},
   "outputs": [
    {
     "name": "stdout",
     "output_type": "stream",
     "text": [
      "Number of added lines (excluding comments and blank lines): 78\n"
     ]
    }
   ],
   "source": [
    "res7 = repo1.git.show('--ignore-blank-lines', fixing_commit_1).splitlines()\n",
    "res7 = [line for line in res7 if re.compile('^\\+[^\\+]').match(line)]\n",
    "res7 = [line for line in res7 if not re.compile('^[\\+|]\\s*/').match(line)]\n",
    "res7 = [line for line in res7 if not re.compile('^[\\+|]\\s*\\*').match(line)]\n",
    "print(\"Number of added lines (excluding comments and blank lines): %d\"%len(res7))"
   ]
  },
  {
   "cell_type": "markdown",
   "metadata": {},
   "source": [
    "## Q(h) How many days were between the current fixing commit and the previous commit of each affected file?"
   ]
  },
  {
   "cell_type": "code",
   "execution_count": 10,
   "metadata": {},
   "outputs": [
    {
     "name": "stdout",
     "output_type": "stream",
     "text": [
      " For java/org/apache/tomcat/util/http/RequestUtil.java , the days between the current fixing commit and the previous commit is 230.7 days\n",
      " For test/org/apache/tomcat/util/http/TestRequestUtil.java , the days between the current fixing commit and the previous commit is 571.9 days\n",
      " For webapps/docs/changelog.xml , the days between the current fixing commit and the previous commit is 26.1 days\n"
     ]
    }
   ],
   "source": [
    "for file in repo1.git.diff('--name-only', fixing_commit_1, fixing_commit_1 + '^').splitlines():\n",
    "    res8 = repo1.git.log(-2, '--pretty=%ct', file).splitlines();\n",
    "    if len(res8) == 2:\n",
    "        print(\" For %s , the days between the current fixing commit and the previous commit is %.1f days\"%(file, (int(res8[0])-int(res8[1]))/86400))\n",
    "    else:\n",
    "        print(\" %s:  N/A This file doesn't have previous commit\"%file)"
   ]
  },
  {
   "cell_type": "markdown",
   "metadata": {},
   "source": [
    "## Q(i) How many time has each affected file of the current fixing commit been modified in the past since their creation  "
   ]
  },
  {
   "cell_type": "code",
   "execution_count": 11,
   "metadata": {},
   "outputs": [
    {
     "name": "stdout",
     "output_type": "stream",
     "text": [
      "  java/org/apache/tomcat/util/http/RequestUtil.java has been modified 6 times\n",
      "  test/org/apache/tomcat/util/http/TestRequestUtil.java has been modified 14 times\n",
      "  webapps/docs/changelog.xml has been modified 2919 times\n"
     ]
    }
   ],
   "source": [
    "for file in repo1.git.diff('--name-only', fixing_commit_1, fixing_commit_1 + '^').splitlines():\n",
    "    res9 = repo1.git.log('--follow', '--pretty=oneline', file).splitlines();\n",
    "    print(\"  %s has been modified %d times\"%(file, len(res9)))"
   ]
  },
  {
   "cell_type": "markdown",
   "metadata": {},
   "source": [
    "## Q(j) Which developers have modified each affected file since its creation?"
   ]
  },
  {
   "cell_type": "code",
   "execution_count": 12,
   "metadata": {},
   "outputs": [
    {
     "name": "stdout",
     "output_type": "stream",
     "text": [
      "  java/org/apache/tomcat/util/http/RequestUtil.java has been modified by following developers:\n",
      "    Mark Thomas\n",
      "  test/org/apache/tomcat/util/http/TestRequestUtil.java has been modified by following developers:\n",
      "    Mark Thomas\n",
      "    Konstantin Kolinko\n",
      "    Mladen Turk\n",
      "    Remy Maucherat\n",
      "  webapps/docs/changelog.xml has been modified by following developers:\n",
      "    Remy Maucherat\n",
      "    Christopher Schultz\n",
      "    kfujino\n",
      "    Konstantin Preißer\n",
      "    Filip Hanik\n",
      "    Keiichi Fujino\n",
      "    Rainer Jung\n",
      "    William Barker\n",
      "    Felix Schumacher\n",
      "    Mark Thomas\n",
      "    Jean-Frederic Clere\n",
      "    Emmanuel Bourg\n",
      "    Violeta Georgieva Georgieva\n",
      "    Yoav Shapira\n",
      "    Konstantin Kolinko\n",
      "    Coty Sutherland\n",
      "    Tim Whittington\n",
      "    Peter Rossbach\n",
      "    Jeremy Boynes\n",
      "    Mladen Turk\n",
      "    Timothy A. Funk\n",
      "    Sylvain Laurent\n"
     ]
    }
   ],
   "source": [
    "for file in repo1.git.diff('--name-only',fixing_commit_1, fixing_commit_1 + '^').splitlines():\n",
    "    print(\"  %s has been modified by following developers:\"%file)\n",
    "    res10 = repo1.git.log('--follow', '--pretty=%aN', file).splitlines()\n",
    "    for dev in set(res10):\n",
    "        print(\"    %s\"%dev)"
   ]
  },
  {
   "cell_type": "markdown",
   "metadata": {},
   "source": [
    "## Q(k) For each developer identified, how many commits have each of them submitted? From your observation, are the involving developers experienced (with many commits) or new ones (with few commits) or both? "
   ]
  },
  {
   "cell_type": "code",
   "execution_count": 13,
   "metadata": {},
   "outputs": [
    {
     "name": "stdout",
     "output_type": "stream",
     "text": [
      " Remy Maucherat made 655 commits\n",
      " Christopher Schultz made 81 commits\n",
      " kfujino made 1 commits\n",
      " Konstantin Preißer made 71 commits\n",
      " Filip Hanik made 1097 commits\n",
      " Keiichi Fujino made 389 commits\n",
      " Rainer Jung made 448 commits\n",
      " William Barker made 44 commits\n",
      " Felix Schumacher made 104 commits\n",
      " Mark Thomas made 10527 commits\n",
      " Jean-Frederic Clere made 81 commits\n",
      " Emmanuel Bourg made 7 commits\n",
      " Violeta Georgieva Georgieva made 340 commits\n",
      " Yoav Shapira made 8 commits\n",
      " Konstantin Kolinko made 1579 commits\n",
      " Coty Sutherland made 9 commits\n",
      " Tim Whittington made 23 commits\n",
      " Peter Rossbach made 93 commits\n",
      " Jeremy Boynes made 72 commits\n",
      " Mladen Turk made 129 commits\n",
      " Timothy A. Funk made 61 commits\n",
      " Sylvain Laurent made 30 commits\n"
     ]
    }
   ],
   "source": [
    "devs = []\n",
    "for file in repo1.git.diff('--name-only',fixing_commit_1, fixing_commit_1 + '^').splitlines():\n",
    "    devs += repo1.git.log('--follow', '--pretty=%aN', file).splitlines()\n",
    "res11 = list(set(devs))\n",
    "log = repo1.git.log('--pretty=%aN')\n",
    "for dev in res11:\n",
    "    print(\" %s made %d commits\"%(dev, len(re.findall(dev,log))))"
   ]
  },
  {
   "cell_type": "markdown",
   "metadata": {},
   "source": [
    "## Case 2 CVE-2018-1325"
   ]
  },
  {
   "cell_type": "code",
   "execution_count": 14,
   "metadata": {},
   "outputs": [],
   "source": [
    "repo2 = Repo(\"~/Documents/wicket-jquery-ui\")\n",
    "fixing_commit_2 = \"2fec03dbe2f6e8808f4bdc6b3195dff3e44f520\""
   ]
  },
  {
   "cell_type": "markdown",
   "metadata": {},
   "source": [
    "## Q(a) What was the message and title of the fixing commit? Was there any mention of fixing a bug or vulnerability? "
   ]
  },
  {
   "cell_type": "code",
   "execution_count": 15,
   "metadata": {},
   "outputs": [
    {
     "name": "stdout",
     "output_type": "stream",
     "text": [
      "Title: Plugins: WysiwygEditor, replaced textarea by hidden input\n",
      "\n"
     ]
    }
   ],
   "source": [
    "res1 = repo2.git.log(-1, '--pretty=%B', fixing_commit_2)\n",
    "\n",
    "print(\"Title:\",res1)"
   ]
  },
  {
   "cell_type": "markdown",
   "metadata": {},
   "source": [
    "## Q(b) How many total files were affected in the fixing commit? "
   ]
  },
  {
   "cell_type": "code",
   "execution_count": 16,
   "metadata": {},
   "outputs": [
    {
     "name": "stdout",
     "output_type": "stream",
     "text": [
      "Number of affected files: 2\n"
     ]
    }
   ],
   "source": [
    "res2 = repo2.git.diff('--name-only', fixing_commit_2, fixing_commit_2 + '^').splitlines()\n",
    "print(\"Number of affected files: %d\"%len(res2))"
   ]
  },
  {
   "cell_type": "markdown",
   "metadata": {},
   "source": [
    "## Q(c) How many total directories were affected in the fixing commit? For example, if a file path is: abc/def/File.java, then its directory is abc/def."
   ]
  },
  {
   "cell_type": "code",
   "execution_count": 17,
   "metadata": {},
   "outputs": [
    {
     "name": "stdout",
     "output_type": "stream",
     "text": [
      "Number of affected directories: 1\n"
     ]
    }
   ],
   "source": [
    "res3 = repo2.git.diff('--dirstat', fixing_commit_2, fixing_commit_2 + '^').splitlines()\n",
    "print(\"Number of affected directories: %d\"%len(res3))"
   ]
  },
  {
   "cell_type": "markdown",
   "metadata": {},
   "source": [
    "## Q(d) How many total lines of code (including comments and blank lines) were deleted? "
   ]
  },
  {
   "cell_type": "code",
   "execution_count": 18,
   "metadata": {},
   "outputs": [
    {
     "name": "stdout",
     "output_type": "stream",
     "text": [
      "Number of deleted lines (including comments and blank lines): 12\n"
     ]
    }
   ],
   "source": [
    "res4 = repo2.git.show(fixing_commit_2).splitlines()\n",
    "res4 = [line for line in res4 if re.compile('^-$|^-[^-]').match(line)]\n",
    "print(\"Number of deleted lines (including comments and blank lines): %d\"%len(res4))"
   ]
  },
  {
   "cell_type": "markdown",
   "metadata": {},
   "source": [
    "## Q(e) How many total lines of code (including comments and blank lines) were added?"
   ]
  },
  {
   "cell_type": "code",
   "execution_count": 19,
   "metadata": {},
   "outputs": [
    {
     "name": "stdout",
     "output_type": "stream",
     "text": [
      "Number of added lines (including comments and blank lines): 6\n"
     ]
    }
   ],
   "source": [
    "res5 = repo2.git.show(fixing_commit_2).splitlines()\n",
    "res5 = [line for line in res5 if re.compile('^\\+$|^\\+[^\\+]').match(line)]\n",
    "print(\"Number of added lines (including comments and blank lines): %d\"%len(res5))"
   ]
  },
  {
   "cell_type": "markdown",
   "metadata": {},
   "source": [
    "## Q(f) How many total lines of code (excluding comments and blank lines) were deleted? "
   ]
  },
  {
   "cell_type": "code",
   "execution_count": 20,
   "metadata": {},
   "outputs": [
    {
     "name": "stdout",
     "output_type": "stream",
     "text": [
      "Number of added lines (excluding comments and blank lines): 12\n"
     ]
    }
   ],
   "source": [
    "res6 = repo2.git.show('--ignore-blank-lines', fixing_commit_2).splitlines()\n",
    "res6 = [line for line in res6 if re.compile('^-[^-]').match(line)]\n",
    "res6 = [line for line in res6 if not re.compile('^[-|]\\s*/').match(line)]\n",
    "res6 = [line for line in res6 if not re.compile('^[-|]\\s*\\*').match(line)]\n",
    "print(\"Number of added lines (excluding comments and blank lines): %d\"%len(res6))"
   ]
  },
  {
   "cell_type": "markdown",
   "metadata": {},
   "source": [
    "## Q(g) How many total lines of code (excluding comments and blank lines) were added? "
   ]
  },
  {
   "cell_type": "code",
   "execution_count": 21,
   "metadata": {},
   "outputs": [
    {
     "name": "stdout",
     "output_type": "stream",
     "text": [
      "Number of added lines (excluding comments and blank lines): 6\n"
     ]
    }
   ],
   "source": [
    "res7 = repo2.git.show('--ignore-blank-lines', fixing_commit_2).splitlines()\n",
    "res7 = [line for line in res7 if re.compile('^\\+[^\\+]').match(line)]\n",
    "res7 = [line for line in res7 if not re.compile('^[\\+|]\\s*/').match(line)]\n",
    "res7 = [line for line in res7 if not re.compile('^[\\+|]\\s*\\*').match(line)]\n",
    "print(\"Number of added lines (excluding comments and blank lines): %d\"%len(res7))"
   ]
  },
  {
   "cell_type": "markdown",
   "metadata": {},
   "source": [
    "## Q(h) How many days were between the current fixing commit and the previous commit of each affected file?"
   ]
  },
  {
   "cell_type": "code",
   "execution_count": 22,
   "metadata": {},
   "outputs": [
    {
     "name": "stdout",
     "output_type": "stream",
     "text": [
      " For wicket-jquery-ui-plugins/src/main/java/com/googlecode/wicket/jquery/ui/plugins/wysiwyg/WysiwygEditor.html , the days between the current fixing commit and the previous commit is 1702.0 days\n",
      " For wicket-jquery-ui-plugins/src/main/java/com/googlecode/wicket/jquery/ui/plugins/wysiwyg/WysiwygEditor.java , the days between the current fixing commit and the previous commit is 47.7 days\n"
     ]
    }
   ],
   "source": [
    "for file in repo2.git.diff('--name-only', fixing_commit_2, fixing_commit_2 + '^').splitlines():\n",
    "    res8 = repo2.git.log(-2, '--pretty=%ct', file).splitlines();\n",
    "    if len(res8) == 2:\n",
    "        print(\" For %s , the days between the current fixing commit and the previous commit is %.1f days\"%(file, (int(res8[0])-int(res8[1]))/86400))\n",
    "    else:\n",
    "        print(\" %s:  N/A This file doesn't have previous commit\"%file)"
   ]
  },
  {
   "cell_type": "markdown",
   "metadata": {},
   "source": [
    "## Q(i) How many time has each affected file of the current fixing commit been modified in the past since their creation  "
   ]
  },
  {
   "cell_type": "code",
   "execution_count": 23,
   "metadata": {},
   "outputs": [
    {
     "name": "stdout",
     "output_type": "stream",
     "text": [
      "  wicket-jquery-ui-plugins/src/main/java/com/googlecode/wicket/jquery/ui/plugins/wysiwyg/WysiwygEditor.html has been modified 6 times\n",
      "  wicket-jquery-ui-plugins/src/main/java/com/googlecode/wicket/jquery/ui/plugins/wysiwyg/WysiwygEditor.java has been modified 26 times\n"
     ]
    }
   ],
   "source": [
    "for file in repo2.git.diff('--name-only', fixing_commit_2, fixing_commit_2 + '^').splitlines():\n",
    "    res9 = repo2.git.log('--follow', '--pretty=oneline', file).splitlines();\n",
    "    print(\"  %s has been modified %d times\"%(file, len(res9)))"
   ]
  },
  {
   "cell_type": "markdown",
   "metadata": {},
   "source": [
    "## Q(j) Which developers have modified each affected file since its creation?"
   ]
  },
  {
   "cell_type": "code",
   "execution_count": 24,
   "metadata": {},
   "outputs": [
    {
     "name": "stdout",
     "output_type": "stream",
     "text": [
      "  wicket-jquery-ui-plugins/src/main/java/com/googlecode/wicket/jquery/ui/plugins/wysiwyg/WysiwygEditor.html has been modified by following developers:\n",
      "    sbriquet\n",
      "    Sebastien Briquet\n",
      "    Sebastien\n",
      "  wicket-jquery-ui-plugins/src/main/java/com/googlecode/wicket/jquery/ui/plugins/wysiwyg/WysiwygEditor.java has been modified by following developers:\n",
      "    sbriquet\n",
      "    Sebastien\n",
      "    Maxim Solodovnik\n",
      "    Sebastien Briquet\n"
     ]
    }
   ],
   "source": [
    "for file in repo2.git.diff('--name-only',fixing_commit_2, fixing_commit_2 + '^').splitlines():\n",
    "    print(\"  %s has been modified by following developers:\"%file)\n",
    "    res10 = repo2.git.log('--follow', '--pretty=%aN', file).splitlines()\n",
    "    for dev in set(res10):\n",
    "        print(\"    %s\"%dev)"
   ]
  },
  {
   "cell_type": "markdown",
   "metadata": {},
   "source": [
    "## Q(k) For each developer identified, how many commits have each of them submitted? From your observation, are the involving developers experienced (with many commits) or new ones (with few commits) or both? "
   ]
  },
  {
   "cell_type": "code",
   "execution_count": 25,
   "metadata": {},
   "outputs": [
    {
     "name": "stdout",
     "output_type": "stream",
     "text": [
      " sbriquet made 162 commits\n",
      " Sebastien Briquet made 489 commits\n",
      " Maxim Solodovnik made 24 commits\n",
      " Sebastien made 963 commits\n"
     ]
    }
   ],
   "source": [
    "devs = []\n",
    "for file in repo2.git.diff('--name-only',fixing_commit_2, fixing_commit_2 + '^').splitlines():\n",
    "    devs += repo2.git.log('--follow', '--pretty=%aN', file).splitlines()\n",
    "res11 = list(set(devs))\n",
    "log = repo2.git.log('--pretty=%aN')\n",
    "for dev in res11:\n",
    "    print(\" %s made %d commits\"%(dev, len(re.findall(dev,log))))"
   ]
  },
  {
   "cell_type": "markdown",
   "metadata": {},
   "source": [
    "## Case 3 CVE-2013-7251"
   ]
  },
  {
   "cell_type": "code",
   "execution_count": 26,
   "metadata": {},
   "outputs": [],
   "source": [
    "repo3 = Repo(\"~/Documents/projectforge-webapp\")\n",
    "fixing_commit_3 = \"422de35e3c3141e418a73bfb39b430d5fd74077e\""
   ]
  },
  {
   "cell_type": "markdown",
   "metadata": {},
   "source": [
    "## Q(a) What was the message and title of the fixing commit? Was there any mention of fixing a bug or vulnerability? "
   ]
  },
  {
   "cell_type": "code",
   "execution_count": 27,
   "metadata": {},
   "outputs": [
    {
     "name": "stdout",
     "output_type": "stream",
     "text": [
      "Title: CSRF protection.\n",
      "\n"
     ]
    }
   ],
   "source": [
    "res1 = repo3.git.log(-1, '--pretty=%B', fixing_commit_3)\n",
    "\n",
    "print(\"Title:\",res1)"
   ]
  },
  {
   "cell_type": "markdown",
   "metadata": {},
   "source": [
    "## Q(b) How many total files were affected in the fixing commit? "
   ]
  },
  {
   "cell_type": "code",
   "execution_count": 28,
   "metadata": {},
   "outputs": [
    {
     "name": "stdout",
     "output_type": "stream",
     "text": [
      "Number of affected files: 20\n"
     ]
    }
   ],
   "source": [
    "res3 = repo3.git.diff('--name-only', fixing_commit_3, fixing_commit_3 + '^').splitlines()\n",
    "print(\"Number of affected files: %d\"%len(res3))"
   ]
  },
  {
   "cell_type": "markdown",
   "metadata": {},
   "source": [
    "## Q(c) How many total directories were affected in the fixing commit? For example, if a file path is: abc/def/File.java, then its directory is abc/def."
   ]
  },
  {
   "cell_type": "code",
   "execution_count": 29,
   "metadata": {},
   "outputs": [
    {
     "name": "stdout",
     "output_type": "stream",
     "text": [
      "Number of affected directories: 8\n"
     ]
    }
   ],
   "source": [
    "res3 = repo3.git.diff('--dirstat', fixing_commit_3, fixing_commit_3 + '^').splitlines()\n",
    "print(\"Number of affected directories: %d\"%len(res3))"
   ]
  },
  {
   "cell_type": "markdown",
   "metadata": {},
   "source": [
    "## Q(d) How many total lines of code (including comments and blank lines) were deleted? "
   ]
  },
  {
   "cell_type": "code",
   "execution_count": 30,
   "metadata": {},
   "outputs": [
    {
     "name": "stdout",
     "output_type": "stream",
     "text": [
      "Number of deleted lines (including comments and blank lines): 20\n"
     ]
    }
   ],
   "source": [
    "res4 = repo3.git.show(fixing_commit_3).splitlines()\n",
    "res4 = [line for line in res4 if re.compile('^-$|^-[^-]').match(line)]\n",
    "print(\"Number of deleted lines (including comments and blank lines): %d\"%len(res4))"
   ]
  },
  {
   "cell_type": "markdown",
   "metadata": {},
   "source": [
    "## Q(e) How many total lines of code (including comments and blank lines) were added?"
   ]
  },
  {
   "cell_type": "code",
   "execution_count": 31,
   "metadata": {},
   "outputs": [
    {
     "name": "stdout",
     "output_type": "stream",
     "text": [
      "Number of added lines (including comments and blank lines): 165\n"
     ]
    }
   ],
   "source": [
    "res5 = repo3.git.show(fixing_commit_3).splitlines()\n",
    "res5 = [line for line in res5 if re.compile('^\\+$|^\\+[^\\+]').match(line)]\n",
    "print(\"Number of added lines (including comments and blank lines): %d\"%len(res5))"
   ]
  },
  {
   "cell_type": "markdown",
   "metadata": {},
   "source": [
    "## Q(f) How many total lines of code (excluding comments and blank lines) were deleted? "
   ]
  },
  {
   "cell_type": "code",
   "execution_count": 32,
   "metadata": {},
   "outputs": [
    {
     "name": "stdout",
     "output_type": "stream",
     "text": [
      "Number of added lines (excluding comments and blank lines): 20\n"
     ]
    }
   ],
   "source": [
    "res6 = repo3.git.show('--ignore-blank-lines', fixing_commit_3).splitlines()\n",
    "res6 = [line for line in res6 if re.compile('^-[^-]').match(line)]\n",
    "res6 = [line for line in res6 if not re.compile('^[-|]\\s*/').match(line)]\n",
    "res6 = [line for line in res6 if not re.compile('^[-|]\\s*\\*').match(line)]\n",
    "print(\"Number of added lines (excluding comments and blank lines): %d\"%len(res6))"
   ]
  },
  {
   "cell_type": "markdown",
   "metadata": {},
   "source": [
    "## Q(g) How many total lines of code (excluding comments and blank lines) were added? "
   ]
  },
  {
   "cell_type": "code",
   "execution_count": 33,
   "metadata": {},
   "outputs": [
    {
     "name": "stdout",
     "output_type": "stream",
     "text": [
      "Number of added lines (excluding comments and blank lines): 119\n"
     ]
    }
   ],
   "source": [
    "res7 = repo3.git.show('--ignore-blank-lines', fixing_commit_3).splitlines()\n",
    "res7 = [line for line in res7 if re.compile('^\\+[^\\+]').match(line)]\n",
    "res7 = [line for line in res7 if not re.compile('^[\\+|]\\s*/').match(line)]\n",
    "res7 = [line for line in res7 if not re.compile('^[\\+|]\\s*\\*').match(line)]\n",
    "print(\"Number of added lines (excluding comments and blank lines): %d\"%len(res7))"
   ]
  },
  {
   "cell_type": "markdown",
   "metadata": {},
   "source": [
    "## Q(h) How many days were between the current fixing commit and the previous commit of each affected file?"
   ]
  },
  {
   "cell_type": "code",
   "execution_count": 34,
   "metadata": {},
   "outputs": [
    {
     "name": "stdout",
     "output_type": "stream",
     "text": [
      " For src/main/java/org/projectforge/web/admin/SetupForm.java , the days between the current fixing commit and the previous commit is 39.0 days\n",
      " For src/main/java/org/projectforge/web/admin/SetupImportForm.java , the days between the current fixing commit and the previous commit is 78.7 days\n",
      " For src/main/java/org/projectforge/web/admin/SetupPage.html , the days between the current fixing commit and the previous commit is 304.3 days\n",
      " For src/main/java/org/projectforge/web/admin/SystemUpdateForm.java , the days between the current fixing commit and the previous commit is 78.7 days\n",
      " For src/main/java/org/projectforge/web/admin/SystemUpdatePage.html , the days between the current fixing commit and the previous commit is 304.3 days\n",
      " For src/main/java/org/projectforge/web/core/NavTopPanel.html , the days between the current fixing commit and the previous commit is 28.5 days\n",
      " For src/main/java/org/projectforge/web/core/NavTopPanel.java , the days between the current fixing commit and the previous commit is 26.4 days\n",
      " For src/main/java/org/projectforge/web/dialog/ModalDialog.html , the days between the current fixing commit and the previous commit is 32.1 days\n",
      " For src/main/java/org/projectforge/web/dialog/ModalDialog.java , the days between the current fixing commit and the previous commit is 10.2 days\n",
      " For src/main/java/org/projectforge/web/fibu/RechnungCostEditTablePanel.html , the days between the current fixing commit and the previous commit is 284.4 days\n",
      " For src/main/java/org/projectforge/web/fibu/RechnungCostEditTablePanel.java , the days between the current fixing commit and the previous commit is 66.2 days\n",
      " For src/main/java/org/projectforge/web/mobile/AbstractMobileEditForm.java , the days between the current fixing commit and the previous commit is 78.7 days\n",
      " For src/main/java/org/projectforge/web/mobile/AbstractMobileEditPage.html , the days between the current fixing commit and the previous commit is 304.3 days\n",
      " For src/main/java/org/projectforge/web/mobile/AbstractMobileListForm.java , the days between the current fixing commit and the previous commit is 78.7 days\n",
      " For src/main/java/org/projectforge/web/mobile/AbstractMobileListPage.html , the days between the current fixing commit and the previous commit is 304.3 days\n",
      " For src/main/java/org/projectforge/web/task/TaskTreeForm.java , the days between the current fixing commit and the previous commit is 27.8 days\n",
      " For src/main/java/org/projectforge/web/task/TaskTreePage.html , the days between the current fixing commit and the previous commit is 183.1 days\n",
      " For src/main/java/org/projectforge/web/wicket/CsrfTokenHandler.java , the days between the current fixing commit and the previous commit is 78.7 days\n",
      " For src/main/java/org/projectforge/web/wicket/components/DropFileContainer.html , the days between the current fixing commit and the previous commit is 170.7 days\n",
      " For src/main/java/org/projectforge/web/wicket/components/DropFileContainer.java , the days between the current fixing commit and the previous commit is 78.7 days\n"
     ]
    }
   ],
   "source": [
    "for file in repo3.git.diff('--name-only', fixing_commit_3, fixing_commit_3 + '^').splitlines():\n",
    "    res8 = repo3.git.log(-2, '--pretty=%ct', file).splitlines();\n",
    "    if len(res8) == 2:\n",
    "        print(\" For %s , the days between the current fixing commit and the previous commit is %.1f days\"%(file, (int(res8[0])-int(res8[1]))/86400))\n",
    "    else:\n",
    "        print(\" %s:  N/A This file doesn't have previous commit\"%file)"
   ]
  },
  {
   "cell_type": "markdown",
   "metadata": {},
   "source": [
    "## Q(i) How many time has each affected file of the current fixing commit been modified in the past since their creation  "
   ]
  },
  {
   "cell_type": "code",
   "execution_count": 35,
   "metadata": {},
   "outputs": [
    {
     "name": "stdout",
     "output_type": "stream",
     "text": [
      "  src/main/java/org/projectforge/web/admin/SetupForm.java has been modified 25 times\n",
      "  src/main/java/org/projectforge/web/admin/SetupImportForm.java has been modified 9 times\n",
      "  src/main/java/org/projectforge/web/admin/SetupPage.html has been modified 16 times\n",
      "  src/main/java/org/projectforge/web/admin/SystemUpdateForm.java has been modified 25 times\n",
      "  src/main/java/org/projectforge/web/admin/SystemUpdatePage.html has been modified 11 times\n",
      "  src/main/java/org/projectforge/web/core/NavTopPanel.html has been modified 39 times\n",
      "  src/main/java/org/projectforge/web/core/NavTopPanel.java has been modified 38 times\n",
      "  src/main/java/org/projectforge/web/dialog/ModalDialog.html has been modified 16 times\n",
      "  src/main/java/org/projectforge/web/dialog/ModalDialog.java has been modified 33 times\n",
      "  src/main/java/org/projectforge/web/fibu/RechnungCostEditTablePanel.html has been modified 6 times\n",
      "  src/main/java/org/projectforge/web/fibu/RechnungCostEditTablePanel.java has been modified 8 times\n",
      "  src/main/java/org/projectforge/web/mobile/AbstractMobileEditForm.java has been modified 15 times\n",
      "  src/main/java/org/projectforge/web/mobile/AbstractMobileEditPage.html has been modified 12 times\n",
      "  src/main/java/org/projectforge/web/mobile/AbstractMobileListForm.java has been modified 15 times\n",
      "  src/main/java/org/projectforge/web/mobile/AbstractMobileListPage.html has been modified 13 times\n",
      "  src/main/java/org/projectforge/web/task/TaskTreeForm.java has been modified 29 times\n",
      "  src/main/java/org/projectforge/web/task/TaskTreePage.html has been modified 16 times\n",
      "  src/main/java/org/projectforge/web/wicket/CsrfTokenHandler.java has been modified 4 times\n",
      "  src/main/java/org/projectforge/web/wicket/components/DropFileContainer.html has been modified 6 times\n",
      "  src/main/java/org/projectforge/web/wicket/components/DropFileContainer.java has been modified 9 times\n"
     ]
    }
   ],
   "source": [
    "for file in repo3.git.diff('--name-only', fixing_commit_3, fixing_commit_3 + '^').splitlines():\n",
    "    res9 = repo3.git.log('--follow', '--pretty=oneline', file).splitlines();\n",
    "    print(\"  %s has been modified %d times\"%(file, len(res9)))"
   ]
  },
  {
   "cell_type": "markdown",
   "metadata": {},
   "source": [
    "## Q(j) Which developers have modified each affected file since its creation?"
   ]
  },
  {
   "cell_type": "code",
   "execution_count": 36,
   "metadata": {},
   "outputs": [
    {
     "name": "stdout",
     "output_type": "stream",
     "text": [
      "  src/main/java/org/projectforge/web/admin/SetupForm.java has been modified by following developers:\n",
      "    Kai Reinhard\n",
      "    kai\n",
      "  src/main/java/org/projectforge/web/admin/SetupImportForm.java has been modified by following developers:\n",
      "    Kai Reinhard\n",
      "    kai\n",
      "  src/main/java/org/projectforge/web/admin/SetupPage.html has been modified by following developers:\n",
      "    Kai Reinhard\n",
      "    Dennis Hilpmann\n",
      "    kai\n",
      "  src/main/java/org/projectforge/web/admin/SystemUpdateForm.java has been modified by following developers:\n",
      "    Kai Reinhard\n",
      "    kai\n",
      "  src/main/java/org/projectforge/web/admin/SystemUpdatePage.html has been modified by following developers:\n",
      "    Kai Reinhard\n",
      "    kai\n",
      "  src/main/java/org/projectforge/web/core/NavTopPanel.html has been modified by following developers:\n",
      "    Dennis Hilpmann\n",
      "    dhilpmann\n",
      "    Kai Reinhard\n",
      "    kai\n",
      "  src/main/java/org/projectforge/web/core/NavTopPanel.java has been modified by following developers:\n",
      "    Johannes Unterstein\n",
      "    Kai Reinhard\n",
      "    kai\n",
      "    junterstein\n",
      "    dhilpmann\n",
      "  src/main/java/org/projectforge/web/dialog/ModalDialog.html has been modified by following developers:\n",
      "    Dennis Hilpmann\n",
      "    Johannes Unterstein\n",
      "    Kai Reinhard\n",
      "    kai\n",
      "  src/main/java/org/projectforge/web/dialog/ModalDialog.java has been modified by following developers:\n",
      "    Johannes Unterstein\n",
      "    junterstein\n",
      "    Kai Reinhard\n",
      "    kai\n",
      "  src/main/java/org/projectforge/web/fibu/RechnungCostEditTablePanel.html has been modified by following developers:\n",
      "    Kai Reinhard\n",
      "    kai\n",
      "  src/main/java/org/projectforge/web/fibu/RechnungCostEditTablePanel.java has been modified by following developers:\n",
      "    Kai Reinhard\n",
      "    kai\n",
      "  src/main/java/org/projectforge/web/mobile/AbstractMobileEditForm.java has been modified by following developers:\n",
      "    Kai Reinhard\n",
      "    kai\n",
      "  src/main/java/org/projectforge/web/mobile/AbstractMobileEditPage.html has been modified by following developers:\n",
      "    Kai Reinhard\n",
      "    kai\n",
      "  src/main/java/org/projectforge/web/mobile/AbstractMobileListForm.java has been modified by following developers:\n",
      "    Kai Reinhard\n",
      "    kai\n",
      "  src/main/java/org/projectforge/web/mobile/AbstractMobileListPage.html has been modified by following developers:\n",
      "    Kai Reinhard\n",
      "    kai\n",
      "  src/main/java/org/projectforge/web/task/TaskTreeForm.java has been modified by following developers:\n",
      "    markus\n",
      "    Kai Reinhard\n",
      "    kai\n",
      "  src/main/java/org/projectforge/web/task/TaskTreePage.html has been modified by following developers:\n",
      "    markus\n",
      "    Kai Reinhard\n",
      "    kai\n",
      "  src/main/java/org/projectforge/web/wicket/CsrfTokenHandler.java has been modified by following developers:\n",
      "    Kai Reinhard\n",
      "  src/main/java/org/projectforge/web/wicket/components/DropFileContainer.html has been modified by following developers:\n",
      "    Johannes Unterstein\n",
      "    junterstein\n",
      "    Kai Reinhard\n",
      "    kai\n",
      "  src/main/java/org/projectforge/web/wicket/components/DropFileContainer.java has been modified by following developers:\n",
      "    Johannes Unterstein\n",
      "    junterstein\n",
      "    Kai Reinhard\n",
      "    kai\n"
     ]
    }
   ],
   "source": [
    "for file in repo3.git.diff('--name-only',fixing_commit_3, fixing_commit_3 + '^').splitlines():\n",
    "    print(\"  %s has been modified by following developers:\"%file)\n",
    "    res10 = repo3.git.log('--follow', '--pretty=%aN', file).splitlines()\n",
    "    for dev in set(res10):\n",
    "        print(\"    %s\"%dev)"
   ]
  },
  {
   "cell_type": "markdown",
   "metadata": {},
   "source": [
    "## Q(k) For each developer identified, how many commits have each of them submitted? From your observation, are the involving developers experienced (with many commits) or new ones (with few commits) or both? "
   ]
  },
  {
   "cell_type": "code",
   "execution_count": 37,
   "metadata": {},
   "outputs": [
    {
     "name": "stdout",
     "output_type": "stream",
     "text": [
      " markus made 41 commits\n",
      " Johannes Unterstein made 155 commits\n",
      " dhilpmann made 16 commits\n",
      " Kai Reinhard made 1420 commits\n",
      " kai made 4074 commits\n",
      " junterstein made 196 commits\n",
      " Dennis Hilpmann made 40 commits\n"
     ]
    }
   ],
   "source": [
    "devs = []\n",
    "for file in repo3.git.diff('--name-only',fixing_commit_3, fixing_commit_3 + '^').splitlines():\n",
    "    devs += repo3.git.log('--follow', '--pretty=%aN', file).splitlines()\n",
    "res11 = list(set(devs))\n",
    "log = repo3.git.log('--pretty=%aN')\n",
    "for dev in res11:\n",
    "    print(\" %s made %d commits\"%(dev, len(re.findall(dev,log))))"
   ]
  },
  {
   "cell_type": "code",
   "execution_count": null,
   "metadata": {},
   "outputs": [],
   "source": []
  }
 ],
 "metadata": {
  "kernelspec": {
   "display_name": "Python 3",
   "language": "python",
   "name": "python3"
  },
  "language_info": {
   "codemirror_mode": {
    "name": "ipython",
    "version": 3
   },
   "file_extension": ".py",
   "mimetype": "text/x-python",
   "name": "python",
   "nbconvert_exporter": "python",
   "pygments_lexer": "ipython3",
   "version": "3.6.8"
  }
 },
 "nbformat": 4,
 "nbformat_minor": 1
}
